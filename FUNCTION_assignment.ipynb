{
 "cells": [
  {
   "cell_type": "code",
   "execution_count": 15,
   "id": "ab450606-bc91-44c4-959c-a958132dd8dd",
   "metadata": {},
   "outputs": [
    {
     "name": "stdout",
     "output_type": "stream",
     "text": [
      "11\n",
      "ceiling the value :,8\n"
     ]
    }
   ],
   "source": [
    "                                           # Theory question \n",
    " # Question no. 1. What is the difference between a function and a method in Python ? \n",
    "''' Ans => \n",
    "  FUNCTION \n",
    "In Python a function is an independent block of code that performs a specific task and can be called from anywhere .\n",
    "The function can have different parameters or may not have any at all. If any data (parameters) are passed they are passed explicitly.\n",
    "It may or may not return any data.\n",
    "  ''' \n",
    "\n",
    "def sum(a,b):\n",
    "    return a+b\n",
    "\n",
    "print(sum(5,6)) # output = 11\n",
    "\n",
    "''' METHOD\n",
    "\n",
    " Method is called by its name,\\ but it is associated to an object (dependent).\n",
    "A method definition always includes ‘self’ as its first parameter.\n",
    "A method is implicitly passed to the object on which it is invoked.\n",
    "It may or may not return any data.\n",
    "\n",
    "'''\n",
    "import math \n",
    "ceil = math.ceil(7.6)\n",
    "print(f\"ceiling the value :,{ceil}\")  # output = 8 "
   ]
  },
  {
   "cell_type": "code",
   "execution_count": null,
   "id": "ef6ce20e-0481-493e-a480-d9a35be61ef5",
   "metadata": {},
   "outputs": [],
   "source": [
    "# Question no.2. Explain the concept of function arguments and parameters in Python ?\n",
    "''' Ans=> An argument is a value that is passed to a function when it is called. It might be a variable value or object passed to a function or method as input.\n",
    "Arguments are the actual values that you pass to the function when you call it. These values replace the parameters defined in the function.\n",
    "'''\n",
    "def sum(a,b):\n",
    "  print(a+b)\n",
    "sum(1,2)  # so here values 1,2 are argument \n",
    "\n",
    "''' Parameters are variables defined in a function declaration. This act as placeholders for the values (arguments) that will be passed to the function.\n",
    "A parameter is the variable defined within the parentheses when we declare a function. '''\n",
    "# Here a,b are the parameters\n",
    "def sum(a,b):\n",
    "  print(a+b)\n",
    "  \n",
    "sum(1,2)\n"
   ]
  },
  {
   "cell_type": "code",
   "execution_count": null,
   "id": "a7722a04-3e28-42f0-b9bb-659817419f8e",
   "metadata": {},
   "outputs": [],
   "source": [
    "# Question 3. What are the different ways to define and call a function in Python ?\n",
    "''' Ans=> there is different way of defining and calling functions:\n",
    "\n",
    "1. User-defined functions: You can create your own functions to perform specific tasks. For instance a function to greet someone can be defined and called as follows:\n",
    "\n",
    "'''\n",
    "def greet(name):\n",
    "    print(f\"Hello, {name}\")\n",
    "\n",
    "greet(\"ram\")  # Output: Hello, ram\n",
    "\n",
    "''' 2.Built-in functions: Python comes with a set of built-in functions like print(), len(), etc.,\n",
    "'''\n",
    "a = [ 1,5,6,5]\n",
    "len(a)  # output= 4\n",
    "\n",
    "''' 3. Functions defined in built-in modules: These functions are part of modules in Python's standard library. You need to import them into your code to use them.\n",
    "For example to use the sqrt() function from the math module you would do the following:\n",
    "'''\n",
    "import math\n",
    "\n",
    "def cal(number):\n",
    "    return math.sqrt(number)\n",
    "\n",
    "result = cal(16)\n",
    "print(result)  # Output: 4.0\n",
    "\n",
    "'''4.  Lambda functions (anonymous functions): These are short-lived functions that can be defined using the lambda keyword. \n",
    "They are useful for short, one-off operations. For example:\n",
    "'''\n",
    "double = lambda x: x * 2\n",
    "print(double(5))  # Output: 10"
   ]
  },
  {
   "cell_type": "code",
   "execution_count": 23,
   "id": "30501219-8231-45ec-92f7-48f337af5635",
   "metadata": {},
   "outputs": [
    {
     "name": "stdout",
     "output_type": "stream",
     "text": [
      "5\n"
     ]
    }
   ],
   "source": [
    "# Question 4.What is the purpose of the `return` statement in a Python function?\n",
    "''' Ans=> A return statement is used to end the execution of the function call and it “returns” the value of the expression following the return keyword to the caller. The statements after the return statements are not executed.\n",
    "If the return statement is without any expression then the special value None is returned.\n",
    "A return statement is overall used to invoke a function so that the passed statements can be executed.'''\n",
    "def add(a, b):\n",
    "    return a + b # returning sum of a and b \n",
    "\n",
    "# calling function\n",
    "res = add(2, 3)\n",
    "print(res)\n",
    "\n"
   ]
  },
  {
   "cell_type": "code",
   "execution_count": null,
   "id": "6c7faa61-ff4e-420c-b27c-a33f2c712969",
   "metadata": {},
   "outputs": [],
   "source": [
    "# Question 5.  What are iterators in Python and how do they differ from iterables ?\n",
    "''' Ans => An iterator is an object that contains a countable number of values.\n",
    "            An iterator is an object that can be iterated upon  meaning that you can traverse through all the values.\n",
    "            iterator is an object which implements the iterator protocol, which consist of the methods __iter__() and __next__().\n",
    "            Every iterator is also an iterable but not every iterator in python '''\n",
    "\n",
    "'''Lists, tuples, dictionaries, and sets are all iterable objects. They are iterable containers which you can get an iterator from.\n",
    "\n",
    "All these objects have a iter() method which is used to get an iterator:'''\n",
    "tuple1 = (\"apple\", \"banana\", \"cherry\")\n",
    "m = iter(tuple1)\n",
    "\n",
    "print(next(m))\n",
    "print(next(m))\n",
    "print(next(m))\n",
    "\n"
   ]
  },
  {
   "cell_type": "code",
   "execution_count": 31,
   "id": "4ec1fb3c-1676-4297-bef2-a14f76da83a5",
   "metadata": {},
   "outputs": [],
   "source": [
    "# Question 6. Explain the concept of generators in Python and how they are defined. \n",
    "''' Ans=> Generators in Python are functions that produce a sequence of results instead of a single value. They are used to create iterators in a more memory-efficient and readable manner.\n",
    "           Unlike traditional functions that return a value with the return statement generator functions use the yield statement to produce a sequence of values over time\n",
    "\n",
    "          When a generator function is called, it returns a generator object without starting execution immediately.\n",
    "          The execution of the generator function starts when the generator object is iterated over, typically using a for loop or by calling the next() function.\n",
    "           Each call to next() or iteration through the generator resumes the function from where it left off, executing until it encounters another yield statement, which then produces the next value.\n",
    "'''\n",
    "def fun():\n",
    "    yield 1            \n",
    "    yield 2            \n",
    "    yield 3            \n",
    " \n",
    "#  check above generator function\n",
    "for val in fun(): \n",
    "    print(val)"
   ]
  },
  {
   "cell_type": "code",
   "execution_count": null,
   "id": "49f94921-9fb0-4c49-ad09-b8441bdbaa20",
   "metadata": {},
   "outputs": [],
   "source": [
    "#  Question 7 What are the advantages of using generators over regular functions?\n",
    "'''Ans=> Generators in Python offer several advantages over regular functions, including memory efficiency, lazy evaluation, and the ability to handle infinite sequences. \n",
    "          Memory efficiency is a key benefit, as generators produce values on the fly and do not require storing the entire sequence in memory which is particularly useful for handling large datasets.\n",
    "\n",
    "         Generators also lead to cleaner and more readable code by abstracting away low-level iterator management details, allowing the logic to focus on high-level business logic.\n",
    "            This can enhance the comprehensibility and maintainability of the codebase. However, regular functions can be more flexible and efficient for smaller tasks, and they can be easier to debug because their execution is completed in a single pass.\n",
    " '''\n",
    "\n"
   ]
  },
  {
   "cell_type": "code",
   "execution_count": null,
   "id": "ac764f36-569b-451b-8fe3-4e9790c78f14",
   "metadata": {},
   "outputs": [],
   "source": [
    "# Question 8. What is a lambda function in Python and when is it typically used ?\n",
    "'''Ans => A lambda function in Python is a concise way to create anonymous functions  also known as lambda expressions . \n",
    "          Unlike regular functions defined using the def keyword, lambda functions are often used for short-term operations and are defined in a single line\n",
    "\n",
    "           Lambda functions are often used in conjunction with higher-order functions like map(), filter(), and sorted() to perform operations on iterables.\n",
    "'''\n",
    "\n",
    "square_lambda = lambda x: x**2\n",
    "square_lambda(4)\n",
    "\n"
   ]
  },
  {
   "cell_type": "code",
   "execution_count": null,
   "id": "e8466cdf-d0e4-4690-9ab9-ad7412385c83",
   "metadata": {},
   "outputs": [],
   "source": [
    "# Question 9. Explain the purpose and usage of the `map()` function in Python.\n",
    "''' Ans=> The map() function in Python is designed to apply a specified function to each item of an iterable (like a list, tuple, or dictionary) and return a new iterable containing the results. \n",
    "          This allows for the transformation of elements in an iterable without the need for explicit loops making the code more concise and readable\n",
    "'''\n",
    "numbers = [1, 2, 3, 4]\n",
    "squares = map(lambda x: x**2, numbers)\n",
    "\n"
   ]
  },
  {
   "cell_type": "code",
   "execution_count": 61,
   "id": "3d30d4cb-1821-4dd1-97d4-f57515ebdcc3",
   "metadata": {},
   "outputs": [
    {
     "data": {
      "text/plain": [
       "'every thing will be okay'"
      ]
     },
     "execution_count": 61,
     "metadata": {},
     "output_type": "execute_result"
    }
   ],
   "source": [
    "# Question 10. What is the difference between `map()`, `reduce()`, and `filter()` functions in Python?\\\n",
    "\n",
    "''' Ans=> In Python, map(), reduce(), and filter() are functions used to apply operations to iterables.\n",
    "         The main differences lie in their functionality and output:\n",
    "\n",
    "       1.map(): This function applies a given function to each item of an iterable (like a list) and returns a map object which is an iterator of the results. \n",
    "           it executes a specified function for each of iterm of an iterable    ''' \n",
    "s=[2,5,6,3]\n",
    "sq= []\n",
    "def sq(s):\n",
    "    return s**2\n",
    "    \n",
    "list(map(sq, s))  # output [ 4,25,36,9] \n",
    "\n",
    "'''\n",
    "      2.reduce(): Unlike map(), reduce() reduces the iterable to a single value by applying a function of two arguments cumulatively to the items of the iterable, from left to right. \n",
    "         This function is not built-in in Python 3 and can be found in the functools module. The output is a single value that is the result of applying the function cumulatively to the elements of the iterable.\n",
    "\n",
    "          '''\n",
    "from functools import reduce \n",
    "word = [\"every\", \"thing\", \"will be okay\"]\n",
    "reduce(lambda x, y: x+ \" \"+y, word)    # output = every thing will be okay \n",
    "\n",
    "\n",
    "'''  3.filter(): This function constructs an iterator from elements of an iterable for which a function returns true. \n",
    "      The output is a new iterable containing only the elements that satisfy the condition specified by the function'''\n",
    "list1 = [2,6,9,3,]\n",
    "list(filter(lambda x: x%2 == 0, list1)) # output = [2,6] "
   ]
  },
  {
   "cell_type": "code",
   "execution_count": 67,
   "id": "f576662b-2ba8-4ae3-8f4c-5307219c2dcd",
   "metadata": {},
   "outputs": [
    {
     "name": "stdout",
     "output_type": "stream",
     "text": [
      "113\n"
     ]
    }
   ],
   "source": [
    "# Question 11.  Using pen & Paper write the internal mechanism for sum operation using  reduce function on this given  list:[47,11,42,13]; \n",
    "\n",
    "from functools import reduce\n",
    "\n",
    "list1 = [47, 11, 42, 13]\n",
    "sum_result = reduce(lambda x, y: x + y, list1)\n",
    "print(sum_result)\n",
    "\n",
    "#  first step \n",
    "x = 47 (first element)\n",
    "y = 11 (second element)\n",
    "Result = 47 + 11 = 58\n",
    "\n",
    "#  second step \n",
    "x = 58 (previous result)\n",
    "y = 42 (third element)\n",
    "Result = 58 + 42 = 100\n",
    "\n",
    "# final step \n",
    "x = 100 (previous result)\n",
    "y = 13 (fourth element)\n",
    "Result = 100 + 13 = 113\n"
   ]
  },
  {
   "cell_type": "code",
   "execution_count": null,
   "id": "136d2cf8-73f1-42aa-b12d-043784d26c02",
   "metadata": {},
   "outputs": [],
   "source": [
    "                                                     # practical question "
   ]
  },
  {
   "cell_type": "code",
   "execution_count": null,
   "id": "d9c493be-0b5c-4605-acad-f8c34b805d5e",
   "metadata": {},
   "outputs": [],
   "source": [
    "# Question 1. Write a Python function that takes a list of numbers as input and returns the sum of all even numbers in the list.\n",
    "\n",
    "def sum_even_numbers(numbers):\n",
    "    total = 0\n",
    "    for num in numbers:\n",
    "        if num % 2 == 0:\n",
    "            total += num\n",
    "    return total\n",
    "sum_even_numbers([5,8,9,10,12,14]) # output = 44 "
   ]
  },
  {
   "cell_type": "code",
   "execution_count": 83,
   "id": "fd00e228-fa7b-41ba-a42c-30c1f42ec330",
   "metadata": {},
   "outputs": [
    {
     "data": {
      "text/plain": [
       "'sllikswp'"
      ]
     },
     "execution_count": 83,
     "metadata": {},
     "output_type": "execute_result"
    }
   ],
   "source": [
    "# Question 2.  Create a Python function that accepts a string and returns the reverse of that string.\n",
    "def reverse_string(s):\n",
    "    return s[::-1]\n",
    "\n",
    "reverse_string(\"pwskills\")     # output => \"sllikswp\" "
   ]
  },
  {
   "cell_type": "code",
   "execution_count": null,
   "id": "ae03c3e4-3627-4bd0-8ce0-d6a58b959bb2",
   "metadata": {},
   "outputs": [],
   "source": [
    "#  Question 3 .Implement a Python function that takes a list of integers and returns a new list containing the squares of  each number.\n",
    "def square_no(nums):\n",
    "    squared_nums = []\n",
    "    for i in nums:\n",
    "        squared_nums.append(i**2)\n",
    "    return squared_nums\n",
    "\n",
    "square_no([2,3,4,5,6])  # output = [ 4,9,16,25,36 ]\n"
   ]
  },
  {
   "cell_type": "code",
   "execution_count": null,
   "id": "84233d0e-efcf-4e1f-96c7-b9beb019d56c",
   "metadata": {},
   "outputs": [],
   "source": [
    "# Question 4  Write a Python function that checks if a given number is prime or not from 1 to 200.\n",
    "\n",
    "import math\n",
    "\n",
    "def is_prime(n):\n",
    "    if n <= 1:\n",
    "        return False\n",
    "    if n <= 3:\n",
    "        return True\n",
    "    if n % 2 == 0 or n % 3 == 0:\n",
    "        return False\n",
    "    i = 5\n",
    "    while i * i <= n:\n",
    "        if n % i == 0 or n % (i + 2) == 0:\n",
    "            return False\n",
    "        i += 6\n",
    "    return True\n",
    "\n",
    "\n",
    "for number in range(1, 201):\n",
    "    print(f\"{number} is prime: {is_prime(number)}\")"
   ]
  },
  {
   "cell_type": "code",
   "execution_count": null,
   "id": "8e7cd779-5014-47c8-a5bc-70fb5300d633",
   "metadata": {},
   "outputs": [],
   "source": [
    "#  Question 5. . Create an iterator class in Python that generates the Fibonacci sequence up to a specified number of terms?\n",
    "\n",
    "def fi(n):\n",
    "    a = 0 \n",
    "    b = 1\n",
    "    for i in range(n): \n",
    "        yield a\n",
    "        a, b = b, a+b\n",
    "\n",
    "f = fi(6)\n",
    "next(f) # output = 0\n",
    "next(f) # output = 1\n",
    "next(f) # output = 1\n",
    "next(f) # output = 2\n",
    "next(f) # output = 3\n",
    "next(f) # output = 5"
   ]
  },
  {
   "cell_type": "code",
   "execution_count": null,
   "id": "23442476-940c-4376-8749-4a86d3fe4bf4",
   "metadata": {},
   "outputs": [],
   "source": [
    "#  Question  6. Write a generator function in Python that yields the powers of 2 up to a given exponent.\n",
    "\n",
    "def square_number_generators(n):\n",
    "    for i in range(n):\n",
    "        yield i**2\n",
    "\n",
    "\n",
    "s= square_number_generators(5)\n",
    "next(s) # output = 0\n",
    "next(s) # output = 1\n",
    "next(s) # output = 4\n",
    "next(s) # output = 9\n",
    "next(s) # output = 16\n",
    "\n",
    "\n",
    "\n"
   ]
  },
  {
   "cell_type": "code",
   "execution_count": null,
   "id": "d56f81dc-99ab-4c75-8c24-c8f451a1e0c1",
   "metadata": {},
   "outputs": [],
   "source": [
    "# Question 7.  Implement a generator function that reads a file line by line and yields each line as a string.\n",
    "def read_file_line_by_line(file_path):\n",
    "    with open(file_path, 'r') as file:\n",
    "        for line in file:\n",
    "            yield line.strip()  # remove leading/trailing whitespace\n",
    "            \n",
    "# Assuming there is  a file named 'sample.txt'\n",
    "\n",
    "for line in read_file_line_by_line('sample.txt'):\n",
    "    print(line)\n"
   ]
  },
  {
   "cell_type": "code",
   "execution_count": null,
   "id": "4b658091-dad3-4c68-8e6c-81c10e5b47bc",
   "metadata": {},
   "outputs": [],
   "source": [
    "# Question 8. Use a lambda function in Python to sort a list of tuples based on the second element of each tuple.\n",
    "\n",
    "data = [(1, 5), (2, 1), (3, 9), (4, 0)]\n",
    "\n",
    "# Sort based on the second element using lambda\n",
    "\n",
    "sorted_data = sorted(data, key=lambda x: x[1])\n",
    "\n",
    "print(sorted_data)\n",
    "# output = [(4,0),(2,1),(1,5),(3,9)]\n"
   ]
  },
  {
   "cell_type": "code",
   "execution_count": 155,
   "id": "cd1dc406-8179-4652-b917-a1d89da85f50",
   "metadata": {},
   "outputs": [
    {
     "name": "stdout",
     "output_type": "stream",
     "text": [
      "Celsius: [10, 20, 30, 40]\n",
      "Fahrenheit: [50.0, 68.0, 86.0, 104.0]\n"
     ]
    }
   ],
   "source": [
    "# Question 9 . Write a Python program that uses `map()` to convert a list of temperatures from Celsius to Fahrenheit.\n",
    "\n",
    "\n",
    "celsius_temps = [10, 20, 30, 40]\n",
    "\n",
    "\n",
    "fahrenheit_temps = list(map(lambda c: (c * 9/5) + 32, celsius_temps))\n",
    "\n",
    "print(\"Celsius:\", celsius_temps)\n",
    "print(\"Fahrenheit:\", fahrenheit_temps)\n"
   ]
  },
  {
   "cell_type": "code",
   "execution_count": 159,
   "id": "04111ee1-f3f7-4796-9ae5-4d06cb3d3a53",
   "metadata": {},
   "outputs": [
    {
     "name": "stdout",
     "output_type": "stream",
     "text": [
      "Original: hey how are you\n",
      "Without Vowels: hy hw r y\n"
     ]
    }
   ],
   "source": [
    "# Question 10. Create a Python program that uses `filter()` to remove all the vowels from a given string\n",
    "def remove_vowels(input_str):\n",
    "    vowels = 'aeiouAEIOU'\n",
    "    return ''.join(filter(lambda char: char not in vowels, input_str))\n",
    "\n",
    "text = \"hey how are you\"\n",
    "result = remove_vowels(text)\n",
    "\n",
    "print(\"Original:\", text)\n",
    "print(\"Without Vowels:\", result)\n"
   ]
  },
  {
   "cell_type": "code",
   "execution_count": 163,
   "id": "dd5c7572-b933-4117-bf2e-8c97a9db2055",
   "metadata": {},
   "outputs": [
    {
     "name": "stdout",
     "output_type": "stream",
     "text": [
      "[('34587', 163.8), ('98762', 163.8), ('77226', 163.8), ('88112', 163.8)]\n"
     ]
    }
   ],
   "source": [
    "# Question 11.  Imagine an accounting routine used in a book shop. It works on a list with sublists, which look like this\n",
    "'''\n",
    "\n",
    "Write a Python program, which returns a list with 2-tuples. Each tuple consists of the order number and the\n",
    "product of the price per item and the quantity. The product should be increased by 10,- € if the value of the\n",
    "order is smaller than 100,00 €.\n",
    "\n",
    "Write a Python program using lambda and map.'''\n",
    "\n",
    "order = [\n",
    "    [\"34587\" ,\"leaning python , mark lutz \" , 4 , 40.95],\n",
    "    [\"98762\" ,\"programming python , mark lutz \" , 4 , 40.95],\n",
    "    [\"77226\" ,\"head first python , paul barry\" , 4 , 40.95],\n",
    "    [\"88112\" ,\"leaning python , david beazley \" , 4 , 40.95]\n",
    "]\n",
    "result = list(map(lambda x: (x[0],x[2] * x[3] + 10 if x[2] * x[3] < 100 else x[2] * x[3] ), order))\n",
    "print(result)"
   ]
  },
  {
   "cell_type": "code",
   "execution_count": null,
   "id": "86fe4973-1f75-491f-a483-5cca7d3ed89f",
   "metadata": {},
   "outputs": [],
   "source": []
  }
 ],
 "metadata": {
  "kernelspec": {
   "display_name": "Python [conda env:base] *",
   "language": "python",
   "name": "conda-base-py"
  },
  "language_info": {
   "codemirror_mode": {
    "name": "ipython",
    "version": 3
   },
   "file_extension": ".py",
   "mimetype": "text/x-python",
   "name": "python",
   "nbconvert_exporter": "python",
   "pygments_lexer": "ipython3",
   "version": "3.12.7"
  }
 },
 "nbformat": 4,
 "nbformat_minor": 5
}
